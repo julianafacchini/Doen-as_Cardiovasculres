{
 "cells": [
  {
   "cell_type": "markdown",
   "metadata": {},
   "source": [
    "  Segundo a OMS as doenças cardiovasculares são as maiores causadoras de mortes no Brasil e no Mundo. Estima-se que,anualmente, ocorram cerca de 17,9 milhões de mortes causada por essas patologias, sendo que um terço dessas ocorrem em indivíduos que ainda não atingiram os 70 anos de idade. Os riscos para doenças cardiovasculares incluem pressão, glicemia e colesterol (especialmente o LDL) altos, sobrepeso e a obesidade. Os riscos comportamentais incluem o sedentarismo, má alimentação, cigarro e uso excessivo de álcool.(OMS,2020)\n",
    "  \n",
    "  Esse trabalho possui o objetivo de estudar a predição de doenças cardiovasculares, a partir de variáveis conhecidas como risco à essas doenças, assim como definir quais dessas características possuem um peso maior na predição. Para esse estudo utilizamos o dataset público Heart Disease Data Set da Universidade(UCI).\n",
    "  \n",
    "  O dataset “Heart Disease Data Set” contém 75 atributos de pacientes e uma variável target sobre ter ou não ter doença cardíaca. Foram escolhidas para o estudo as variáveis idade, sexo, angina,colesterol, glicemia, talassemia, pressão sanguínea, arritmia e leitura de eletrocardiograma (ECG).\n",
    "  \n",
    "  1)  Age: displays the age of the individual.\n",
    "    \n",
    "   2)  Sex: displays the gender of the individual using the following format :\n",
    "    1 = male\n",
    "    0 = female\n",
    "    \n",
    "   3) Chest-pain type: displays the type of chest-pain experienced by the individual using the following format :\n",
    "    1 = typical angina\n",
    "    2 = atypical angina\n",
    "    3 = non — anginal pain\n",
    "    4 = asymptotic\n",
    "    \n",
    "   4) Resting Blood Pressure: displays the resting blood pressure value of an individual in mmHg (unit)\n",
    "    \n",
    "    5) Serum Cholestrol: displays the serum cholesterol in mg/dl (unit)\n",
    "    \n",
    "   6) Fasting Blood Sugar: compares the fasting blood sugar value of an individual with 120mg/dl.\n",
    "    \n",
    "    If fasting blood sugar > 120mg/dl then : 1 (true)\n",
    "    else : 0 (false)\n",
    "    \n",
    "   7) Resting ECG : displays resting electrocardiographic results\n",
    "    0 = normal\n",
    "    1 = having ST-T wave abnormality\n",
    "    2 = left ventricular hyperthrophy\n",
    "    \n",
    "   8) Max heart rate achieved : displays the max heart rate achieved by an individual.\n",
    "    \n",
    "        \n",
    "   9) Exercise induced angina :\n",
    "    1 = yes\n",
    "    0 = no\n",
    "   \n",
    "   10) ST depression induced by exercise relative to rest: displays the value which is an integer or float.\n",
    "   \n",
    "   11) Peak exercise ST segment :\n",
    "    1 = upsloping\n",
    "    2 = flat\n",
    "    3 = downsloping\n",
    "   \n",
    "    12)Number of major vessels (0–3) colored by flourosopy : displays the value as integer or float.\n",
    "   \n",
    "   13) Thal : displays the thalassemia :\n",
    "    3 = normal\n",
    "    6 = fixed defect\n",
    "    7 = reversible defect\n",
    "   "
   ]
  },
  {
   "cell_type": "code",
   "execution_count": 1,
   "metadata": {},
   "outputs": [],
   "source": [
    "#Importando Biliotecas\n",
    "import pandas as pd\n",
    "import numpy as np\n",
    "import seaborn as sns\n",
    "import matplotlib.pyplot as plt\n",
    "%matplotlib inline\n"
   ]
  },
  {
   "cell_type": "code",
   "execution_count": 2,
   "metadata": {},
   "outputs": [],
   "source": [
    "#carregando dataset\n",
    "data = pd.read_csv('heart.csv')"
   ]
  },
  {
   "cell_type": "code",
   "execution_count": 3,
   "metadata": {},
   "outputs": [
    {
     "data": {
      "text/html": [
       "<div>\n",
       "<style scoped>\n",
       "    .dataframe tbody tr th:only-of-type {\n",
       "        vertical-align: middle;\n",
       "    }\n",
       "\n",
       "    .dataframe tbody tr th {\n",
       "        vertical-align: top;\n",
       "    }\n",
       "\n",
       "    .dataframe thead th {\n",
       "        text-align: right;\n",
       "    }\n",
       "</style>\n",
       "<table border=\"1\" class=\"dataframe\">\n",
       "  <thead>\n",
       "    <tr style=\"text-align: right;\">\n",
       "      <th></th>\n",
       "      <th>age</th>\n",
       "      <th>sex</th>\n",
       "      <th>cp</th>\n",
       "      <th>trestbps</th>\n",
       "      <th>chol</th>\n",
       "      <th>fbs</th>\n",
       "      <th>restecg</th>\n",
       "      <th>thalach</th>\n",
       "      <th>exang</th>\n",
       "      <th>oldpeak</th>\n",
       "      <th>slope</th>\n",
       "      <th>ca</th>\n",
       "      <th>thal</th>\n",
       "      <th>target</th>\n",
       "    </tr>\n",
       "  </thead>\n",
       "  <tbody>\n",
       "    <tr>\n",
       "      <td>0</td>\n",
       "      <td>63</td>\n",
       "      <td>1</td>\n",
       "      <td>3</td>\n",
       "      <td>145</td>\n",
       "      <td>233</td>\n",
       "      <td>1</td>\n",
       "      <td>0</td>\n",
       "      <td>150</td>\n",
       "      <td>0</td>\n",
       "      <td>2.3</td>\n",
       "      <td>0</td>\n",
       "      <td>0</td>\n",
       "      <td>1</td>\n",
       "      <td>1</td>\n",
       "    </tr>\n",
       "    <tr>\n",
       "      <td>1</td>\n",
       "      <td>37</td>\n",
       "      <td>1</td>\n",
       "      <td>2</td>\n",
       "      <td>130</td>\n",
       "      <td>250</td>\n",
       "      <td>0</td>\n",
       "      <td>1</td>\n",
       "      <td>187</td>\n",
       "      <td>0</td>\n",
       "      <td>3.5</td>\n",
       "      <td>0</td>\n",
       "      <td>0</td>\n",
       "      <td>2</td>\n",
       "      <td>1</td>\n",
       "    </tr>\n",
       "    <tr>\n",
       "      <td>2</td>\n",
       "      <td>41</td>\n",
       "      <td>0</td>\n",
       "      <td>1</td>\n",
       "      <td>130</td>\n",
       "      <td>204</td>\n",
       "      <td>0</td>\n",
       "      <td>0</td>\n",
       "      <td>172</td>\n",
       "      <td>0</td>\n",
       "      <td>1.4</td>\n",
       "      <td>2</td>\n",
       "      <td>0</td>\n",
       "      <td>2</td>\n",
       "      <td>1</td>\n",
       "    </tr>\n",
       "    <tr>\n",
       "      <td>3</td>\n",
       "      <td>56</td>\n",
       "      <td>1</td>\n",
       "      <td>1</td>\n",
       "      <td>120</td>\n",
       "      <td>236</td>\n",
       "      <td>0</td>\n",
       "      <td>1</td>\n",
       "      <td>178</td>\n",
       "      <td>0</td>\n",
       "      <td>0.8</td>\n",
       "      <td>2</td>\n",
       "      <td>0</td>\n",
       "      <td>2</td>\n",
       "      <td>1</td>\n",
       "    </tr>\n",
       "    <tr>\n",
       "      <td>4</td>\n",
       "      <td>57</td>\n",
       "      <td>0</td>\n",
       "      <td>0</td>\n",
       "      <td>120</td>\n",
       "      <td>354</td>\n",
       "      <td>0</td>\n",
       "      <td>1</td>\n",
       "      <td>163</td>\n",
       "      <td>1</td>\n",
       "      <td>0.6</td>\n",
       "      <td>2</td>\n",
       "      <td>0</td>\n",
       "      <td>2</td>\n",
       "      <td>1</td>\n",
       "    </tr>\n",
       "  </tbody>\n",
       "</table>\n",
       "</div>"
      ],
      "text/plain": [
       "   age  sex  cp  trestbps  chol  fbs  restecg  thalach  exang  oldpeak  slope  \\\n",
       "0   63    1   3       145   233    1        0      150      0      2.3      0   \n",
       "1   37    1   2       130   250    0        1      187      0      3.5      0   \n",
       "2   41    0   1       130   204    0        0      172      0      1.4      2   \n",
       "3   56    1   1       120   236    0        1      178      0      0.8      2   \n",
       "4   57    0   0       120   354    0        1      163      1      0.6      2   \n",
       "\n",
       "   ca  thal  target  \n",
       "0   0     1       1  \n",
       "1   0     2       1  \n",
       "2   0     2       1  \n",
       "3   0     2       1  \n",
       "4   0     2       1  "
      ]
     },
     "execution_count": 3,
     "metadata": {},
     "output_type": "execute_result"
    }
   ],
   "source": [
    "#verificando as 5 primeiras linhas\n",
    "data.head()"
   ]
  },
  {
   "cell_type": "code",
   "execution_count": 4,
   "metadata": {},
   "outputs": [
    {
     "data": {
      "text/plain": [
       "(303, 14)"
      ]
     },
     "execution_count": 4,
     "metadata": {},
     "output_type": "execute_result"
    }
   ],
   "source": [
    "#Verificando o número de linhas e colunas\n",
    "data.shape"
   ]
  },
  {
   "cell_type": "code",
   "execution_count": 5,
   "metadata": {},
   "outputs": [
    {
     "data": {
      "text/plain": [
       "age         0\n",
       "sex         0\n",
       "cp          0\n",
       "trestbps    0\n",
       "chol        0\n",
       "fbs         0\n",
       "restecg     0\n",
       "thalach     0\n",
       "exang       0\n",
       "oldpeak     0\n",
       "slope       0\n",
       "ca          0\n",
       "thal        0\n",
       "target      0\n",
       "dtype: int64"
      ]
     },
     "execution_count": 5,
     "metadata": {},
     "output_type": "execute_result"
    }
   ],
   "source": [
    "#Verificando a quantidade de vazios\n",
    "data.isnull().sum()"
   ]
  },
  {
   "cell_type": "code",
   "execution_count": 6,
   "metadata": {},
   "outputs": [
    {
     "name": "stdout",
     "output_type": "stream",
     "text": [
      "<class 'pandas.core.frame.DataFrame'>\n",
      "RangeIndex: 303 entries, 0 to 302\n",
      "Data columns (total 14 columns):\n",
      "age         303 non-null int64\n",
      "sex         303 non-null int64\n",
      "cp          303 non-null int64\n",
      "trestbps    303 non-null int64\n",
      "chol        303 non-null int64\n",
      "fbs         303 non-null int64\n",
      "restecg     303 non-null int64\n",
      "thalach     303 non-null int64\n",
      "exang       303 non-null int64\n",
      "oldpeak     303 non-null float64\n",
      "slope       303 non-null int64\n",
      "ca          303 non-null int64\n",
      "thal        303 non-null int64\n",
      "target      303 non-null int64\n",
      "dtypes: float64(1), int64(13)\n",
      "memory usage: 33.3 KB\n"
     ]
    }
   ],
   "source": [
    "#Verificando o tipo das variáveis\n",
    "data.info() "
   ]
  },
  {
   "cell_type": "code",
   "execution_count": 7,
   "metadata": {},
   "outputs": [],
   "source": [
    "#Correlação\n",
    "corr = data.corr()"
   ]
  },
  {
   "cell_type": "code",
   "execution_count": 8,
   "metadata": {},
   "outputs": [
    {
     "data": {
      "image/png": "[encoded data removed]",
      "text/plain": [
       "<Figure size 432x288 with 2 Axes>"
      ]
     },
     "metadata": {
      "needs_background": "light"
     },
     "output_type": "display_data"
    }
   ],
   "source": [
    "ax = sns.heatmap(corr, cmap=\"YlGnBu\")\n",
    "plt.rcParams['figure.figsize'] = (30,30)\n",
    "plt.show()"
   ]
  },
  {
   "cell_type": "code",
   "execution_count": 9,
   "metadata": {},
   "outputs": [
    {
     "data": {
      "image/png": "[encoded data removed]",
      "text/plain": [
       "<Figure size 2160x2160 with 16 Axes>"
      ]
     },
     "metadata": {
      "needs_background": "light"
     },
     "output_type": "display_data"
    }
   ],
   "source": [
    "#Verificando comportamentos\n",
    "data.hist()\n",
    "plt.show()"
   ]
  },
  {
   "cell_type": "code",
   "execution_count": 10,
   "metadata": {},
   "outputs": [
    {
     "data": {
      "text/plain": [
       "<matplotlib.axes._subplots.AxesSubplot at 0x7f7e7d4bdc50>"
      ]
     },
     "execution_count": 10,
     "metadata": {},
     "output_type": "execute_result"
    },
    {
     "data": {
      "image/png": "[encoded data removed]",
      "text/plain": [
       "<Figure size 360x360 with 1 Axes>"
      ]
     },
     "metadata": {
      "needs_background": "light"
     },
     "output_type": "display_data"
    }
   ],
   "source": [
    "#Outliers\n",
    "plt.figure(figsize=(5,5))\n",
    "sns.boxplot(data.oldpeak, color = 'green')\n"
   ]
  },
  {
   "cell_type": "code",
   "execution_count": 11,
   "metadata": {},
   "outputs": [],
   "source": [
    "#Separando variáveis e target\n",
    "X = data.iloc[:,:13]\n",
    "Y = data.iloc[:,13]"
   ]
  },
  {
   "cell_type": "code",
   "execution_count": 12,
   "metadata": {},
   "outputs": [
    {
     "data": {
      "image/png": "[encoded data removed]",
      "text/plain": [
       "<Figure size 432x288 with 1 Axes>"
      ]
     },
     "metadata": {},
     "output_type": "display_data"
    }
   ],
   "source": [
    "%matplotlib inline\n",
    "import seaborn as sns\n",
    "sns.set(style=\"whitegrid\", color_codes=True)\n",
    "sns.boxplot(data=data);"
   ]
  },
  {
   "cell_type": "code",
   "execution_count": 13,
   "metadata": {},
   "outputs": [
    {
     "name": "stdout",
     "output_type": "stream",
     "text": [
      "Class 0: 138\n",
      "Class 1: 165\n",
      "Proportion: 0.84 : 1\n"
     ]
    },
    {
     "data": {
      "image/png": "[encoded data removed]",
      "text/plain": [
       "<Figure size 720x432 with 1 Axes>"
      ]
     },
     "metadata": {},
     "output_type": "display_data"
    }
   ],
   "source": [
    "#Verificando as classes para ver se não estão desbalanceadas\n",
    "target_count = data.target.value_counts()\n",
    "plt.figure(figsize=(10,6))\n",
    "print('Class 0:', target_count[0])\n",
    "print('Class 1:', target_count[1])\n",
    "print('Proportion:', round(target_count[0] / target_count[1], 2), ': 1')\n",
    "target_count.plot(kind='bar', title='Count (classe)',color = ['#1F77B4', '#FF7F0E']);"
   ]
  },
  {
   "cell_type": "code",
   "execution_count": 14,
   "metadata": {},
   "outputs": [],
   "source": [
    "#Função - retirando outliers\n",
    "def out(n):\n",
    "    mean = np.mean(n, axis=0)\n",
    "    sd = np.std(n, axis=0)\n",
    "\n",
    "    for x in n:\n",
    "        if (x < mean - 2*sd):\n",
    "             print(x)"
   ]
  },
  {
   "cell_type": "code",
   "execution_count": 15,
   "metadata": {},
   "outputs": [
    {
     "name": "stdout",
     "output_type": "stream",
     "text": [
      "141\n",
      "126\n",
      "131\n"
     ]
    }
   ],
   "source": [
    "out(data['chol'])"
   ]
  },
  {
   "cell_type": "code",
   "execution_count": 16,
   "metadata": {},
   "outputs": [],
   "source": [
    "out(data['ca'])"
   ]
  },
  {
   "cell_type": "code",
   "execution_count": 17,
   "metadata": {},
   "outputs": [],
   "source": [
    "out(data['oldpeak'])"
   ]
  },
  {
   "cell_type": "code",
   "execution_count": 18,
   "metadata": {},
   "outputs": [],
   "source": [
    "#!pip install imblearn"
   ]
  },
  {
   "cell_type": "code",
   "execution_count": 19,
   "metadata": {},
   "outputs": [
    {
     "name": "stdout",
     "output_type": "stream",
     "text": [
      "Percentage of normal transactions:  0.6485507246376812\n",
      "Percentage of f transactions:  0.35144927536231885\n",
      "Total number of transactions in resampled data:  276\n"
     ]
    }
   ],
   "source": [
    "#Arrumando o desbalanceamento\n",
    "from imblearn.under_sampling import RandomUnderSampler\n",
    "# Number of data points in the minority class\n",
    "number_records_f= len(data[data.target == 0])\n",
    "f_indices = np.array(data[data.target == 0].index)\n",
    "\n",
    "# Picking the indices of the normal classes\n",
    "normal_indices = data[data.target == 1].index\n",
    "\n",
    "# Out of the indices we picked, randomly select \"x\" number (number_records_fraud)\n",
    "random_normal_indices = np.random.choice(normal_indices, number_records_f)\n",
    "random_normal_indices = np.array(random_normal_indices)\n",
    "\n",
    "# Appending the 2 indices\n",
    "under_sample_indices = np.concatenate([f_indices,random_normal_indices])\n",
    "\n",
    "\n",
    "# Under sample dataset\n",
    "under_sample_data = data.loc[under_sample_indices,:]\n",
    "\n",
    "X_undersample = under_sample_data.iloc[:, under_sample_data.columns != 'target']\n",
    "y_undersample = under_sample_data.iloc[:, under_sample_data.columns == 'target']\n",
    "\n",
    "# Showing ratio\n",
    "print(\"Percentage of normal transactions: \", len(under_sample_data[under_sample_data.sex == 1])/len(under_sample_data))\n",
    "print(\"Percentage of f transactions: \", len(under_sample_data[under_sample_data.sex == 0])/len(under_sample_data))\n",
    "print(\"Total number of transactions in resampled data: \", len(under_sample_data))\n"
   ]
  },
  {
   "cell_type": "code",
   "execution_count": 20,
   "metadata": {},
   "outputs": [],
   "source": [
    "# Divisão dos dados em treino e teste\n",
    "from sklearn.model_selection import train_test_split\n",
    "X_train, X_test, y_train, y_test = train_test_split(X_undersample, y_undersample,test_size = 0.2, random_state = 42)"
   ]
  },
  {
   "cell_type": "code",
   "execution_count": 21,
   "metadata": {},
   "outputs": [
    {
     "data": {
      "text/plain": [
       "((220, 13), (56, 13))"
      ]
     },
     "execution_count": 21,
     "metadata": {},
     "output_type": "execute_result"
    }
   ],
   "source": [
    "X_train.shape, X_test.shape"
   ]
  },
  {
   "cell_type": "code",
   "execution_count": 22,
   "metadata": {},
   "outputs": [
    {
     "data": {
      "text/plain": [
       "((220, 1), (56, 1))"
      ]
     },
     "execution_count": 22,
     "metadata": {},
     "output_type": "execute_result"
    }
   ],
   "source": [
    "y_train.shape,y_test.shape"
   ]
  },
  {
   "cell_type": "markdown",
   "metadata": {},
   "source": [
    "O XGBoost é um excelente algoritmo para análise de dados estruturados, que utiliza o Gradiente boosting. Ele foi criando na Universidade de Washington nos EUA. Trata-se de uma ferramenta poderosa de árvores de decisão que pode ser usada tanto em casos de regressão como de classificação. Ele é muito eficiente e flexível. Realizaremos a análise utilizando-o."
   ]
  },
  {
   "cell_type": "code",
   "execution_count": 23,
   "metadata": {},
   "outputs": [
    {
     "name": "stderr",
     "output_type": "stream",
     "text": [
      "/home/jfs/anaconda3/lib/python3.7/site-packages/sklearn/preprocessing/_label.py:235: DataConversionWarning: A column-vector y was passed when a 1d array was expected. Please change the shape of y to (n_samples, ), for example using ravel().\n",
      "  y = column_or_1d(y, warn=True)\n",
      "/home/jfs/anaconda3/lib/python3.7/site-packages/sklearn/preprocessing/_label.py:268: DataConversionWarning: A column-vector y was passed when a 1d array was expected. Please change the shape of y to (n_samples, ), for example using ravel().\n",
      "  y = column_or_1d(y, warn=True)\n"
     ]
    },
    {
     "data": {
      "text/plain": [
       "0.9770408163265306"
      ]
     },
     "execution_count": 23,
     "metadata": {},
     "output_type": "execute_result"
    }
   ],
   "source": [
    "import xgboost as xgb\n",
    "from xgboost import XGBClassifier\n",
    "from sklearn.metrics import roc_auc_score\n",
    "\n",
    "modelo_xg = xgb.XGBClassifier(learning_rate = 0.01, \n",
    "                              max_depth = 2, \n",
    "                              n_estimators = 1000,\n",
    "                             min_child_weight = 5,\n",
    "                             gamma = 0.1,\n",
    "                             reg_alpha=1,\n",
    "                            reg_lambda=1.5)\n",
    "modelo_xg.fit(X_train,y_train)    \n",
    "resultado2 = modelo_xg.predict_proba(X_test)[:,1]\n",
    "valores_previstos2 = modelo_xg.predict(X_test)\n",
    "score = roc_auc_score(y_test, resultado2)\n",
    "score"
   ]
  },
  {
   "cell_type": "code",
   "execution_count": 24,
   "metadata": {},
   "outputs": [],
   "source": [
    "feature_imp = pd.Series(modelo_xg.feature_importances_,index=X.columns).sort_values(ascending=False)"
   ]
  },
  {
   "cell_type": "code",
   "execution_count": 25,
   "metadata": {},
   "outputs": [],
   "source": [
    "def visualiza_features_importantes(features_lista):\n",
    "    %matplotlib inline\n",
    "\n",
    "    plt.figure(figsize=(16,8))\n",
    "    sns.barplot(x=features_lista, y=features_lista.index)\n",
    "\n",
    "    plt.xlabel('Feature Importance Score')\n",
    "    plt.ylabel('Features')\n",
    "    plt.title(\"Visualizing Important Features\")\n",
    "    plt.show()\n",
    "\n"
   ]
  },
  {
   "cell_type": "code",
   "execution_count": 26,
   "metadata": {},
   "outputs": [
    {
     "data": {
      "image/png": "[encoded data removed]",
      "text/plain": [
       "<Figure size 1152x576 with 1 Axes>"
      ]
     },
     "metadata": {
      "needs_background": "light"
     },
     "output_type": "display_data"
    }
   ],
   "source": [
    "#Verificando os pesos de cada variável na predição\n",
    "visualiza_features_importantes(feature_imp)\n"
   ]
  },
  {
   "cell_type": "code",
   "execution_count": 27,
   "metadata": {},
   "outputs": [
    {
     "data": {
      "text/plain": [
       "thal        0.235873\n",
       "cp          0.202828\n",
       "exang       0.128203\n",
       "ca          0.092530\n",
       "oldpeak     0.065731\n",
       "thalach     0.060296\n",
       "sex         0.057788\n",
       "age         0.055867\n",
       "chol        0.042117\n",
       "restecg     0.038237\n",
       "trestbps    0.016330\n",
       "slope       0.004200\n",
       "fbs         0.000000\n",
       "dtype: float32"
      ]
     },
     "execution_count": 27,
     "metadata": {},
     "output_type": "execute_result"
    }
   ],
   "source": [
    "feature_imp"
   ]
  },
  {
   "cell_type": "code",
   "execution_count": 28,
   "metadata": {},
   "outputs": [
    {
     "name": "stdout",
     "output_type": "stream",
     "text": [
      "thal:\t0.23587265610694885\n",
      "cp:\t0.20282788574695587\n",
      "exang:\t0.12820306420326233\n",
      "ca:\t0.09253023564815521\n"
     ]
    }
   ],
   "source": [
    "#Limitando as variáveis para observar o comportamento.\n",
    "features_selecionadas = []\n",
    "for feature,importancia in feature_imp.iteritems():\n",
    "    if   importancia > 0.08 :\n",
    "        print(\"{}:\\t{}\".format(feature, importancia))\n",
    "        features_selecionadas.append(feature)"
   ]
  },
  {
   "cell_type": "code",
   "execution_count": 29,
   "metadata": {},
   "outputs": [],
   "source": [
    "X_train, X_test, y_train, y_test = train_test_split(\n",
    "    X[features_selecionadas],\n",
    "    Y,\n",
    "    test_size=0.2,\n",
    "    random_state=42\n",
    ")"
   ]
  },
  {
   "cell_type": "code",
   "execution_count": 30,
   "metadata": {},
   "outputs": [
    {
     "data": {
      "text/plain": [
       "0.8981681034482758"
      ]
     },
     "execution_count": 30,
     "metadata": {},
     "output_type": "execute_result"
    }
   ],
   "source": [
    "modelo_xg = xgb.XGBClassifier(learning_rate = 0.01, \n",
    "                              max_depth = 2, \n",
    "                              n_estimators = 1000,\n",
    "                             min_child_weight = 5,\n",
    "                             gamma = 0.1,\n",
    "                             reg_alpha=1,\n",
    "                            reg_lambda=1.5)\n",
    "modelo_xg.fit(X_train,y_train)    \n",
    "resultado2 = modelo_xg.predict_proba(X_test)[:,1]\n",
    "valores_previstos2 = modelo_xg.predict(X_test)\n",
    "score = roc_auc_score(y_test, resultado2)\n",
    "score"
   ]
  }
 ],
 "metadata": {
  "kernelspec": {
   "display_name": "Python 3",
   "language": "python",
   "name": "python3"
  },
  "language_info": {
   "codemirror_mode": {
    "name": "ipython",
    "version": 3
   },
   "file_extension": ".py",
   "mimetype": "text/x-python",
   "name": "python",
   "nbconvert_exporter": "python",
   "pygments_lexer": "ipython3",
   "version": "3.7.4"
  }
 },
 "nbformat": 4,
 "nbformat_minor": 2
}
